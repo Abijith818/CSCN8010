{
 "cells": [
  {
   "attachments": {},
   "cell_type": "markdown",
   "metadata": {},
   "source": [
    "|              | Linear Regression                                | Logistic Regression                                                     |\n",
    "|--------------|-------------------------------------------------|-------------------------------------------------------------------------|\n",
    "| Model Equation   | $Y = w_0 + w_1X_1 + w_2X_2 + ... + w_nX_n$                      | $P(Y=1) = \\frac{1}{1 + e^{-(w_0 + w_1X_1 + w_2X_2 + ... + w_nX_n)}}$ |\n",
    "| Output Range  | Continuous values                               | Probabilities (0 to 1)                                                  |\n",
    "| Loss Function | Mean Squared Error (MSE)<br> $MSE = \\frac{1}{n} \\sum_{i=1}^{n} (y_i - \\hat{y}_i)^2$ | Binary Cross-Entropy Loss (Log Loss)<br> $Log Loss = -\\frac{1}{n} \\sum_{i=1}^{n} [y_i \\log(\\hat{y}_i) + (1 - y_i) \\log(1 - \\hat{y}_i)]$                                  |\n",
    "| Assumptions   | Linear relationship between independent variables and target | Log-odds are linearly related to independent variables                   |\n",
    "| Interpretation | Coefficients represent change in the target for a unit change | Coefficients represent change in the log-odds of the target              |\n",
    "| Application    | Regression tasks predicting continuous values    | Binary classification tasks                                             |\n",
    "| Optimization Objective | Minimize the sum of squared differences between predictions | Minimize the log loss between predicted and actual labels                 |\n",
    "\n",
    "$y$ represents the true target values, $\\hat{y}$ represents the predicted target values, and $n$ represents the number of data points.               |"
   ]
  },
  {
   "cell_type": "code",
   "execution_count": 2,
   "metadata": {},
   "outputs": [
    {
     "name": "stdout",
     "output_type": "stream",
     "text": [
      "Accuracy: 0.835\n"
     ]
    }
   ],
   "source": [
    "from sklearn.linear_model import SGDClassifier\n",
    "from sklearn.datasets import make_classification\n",
    "from sklearn.model_selection import train_test_split\n",
    "from sklearn.metrics import accuracy_score\n",
    "\n",
    "# Generate a random binary classification dataset\n",
    "X, y = make_classification(n_samples=1000, n_features=10, n_classes=2, random_state=42)\n",
    "\n",
    "# Split the dataset into training and testing sets\n",
    "X_train, X_test, y_train, y_test = train_test_split(X, y, test_size=0.2, random_state=42)\n",
    "\n",
    "# Create a logistic regression model with gradient descent optimization\n",
    "clf = SGDClassifier(loss='log_loss', max_iter=1000, tol=1e-3, random_state=42)\n",
    "\n",
    "# Train the model on the training set\n",
    "clf.fit(X_train, y_train)\n",
    "\n",
    "# Make predictions on the testing set\n",
    "y_pred = clf.predict(X_test)\n",
    "\n",
    "# Calculate the accuracy of the model\n",
    "accuracy = accuracy_score(y_test, y_pred)\n",
    "\n",
    "print(f\"Accuracy: {accuracy}\")"
   ]
  }
 ],
 "metadata": {
  "kernelspec": {
   "display_name": "CSCN8010_classic_ml",
   "language": "python",
   "name": "python3"
  },
  "language_info": {
   "codemirror_mode": {
    "name": "ipython",
    "version": 3
   },
   "file_extension": ".py",
   "mimetype": "text/x-python",
   "name": "python",
   "nbconvert_exporter": "python",
   "pygments_lexer": "ipython3",
   "version": "3.11.3"
  },
  "orig_nbformat": 4
 },
 "nbformat": 4,
 "nbformat_minor": 2
}
